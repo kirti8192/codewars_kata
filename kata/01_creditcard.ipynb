{
 "cells": [
  {
   "cell_type": "code",
   "execution_count": 1,
   "metadata": {},
   "outputs": [],
   "source": [
    "# Usually when you buy something, you're asked whether your credit card number, phone number or answer to your most secret question is still correct. However, since someone could look over your shoulder, you don't want that shown on your screen. Instead, we mask it.\n",
    "\n",
    "# Your task is to write a function maskify, which changes all but the last four characters into '#'.\n",
    "\n",
    "# Examples (input --> output):\n",
    "\n",
    "# \"4556364607935616\" --> \"############5616\"\n",
    "#      \"64607935616\" -->      \"#######5616\"\n",
    "#                \"1\" -->                \"1\"\n",
    "#                 \"\" -->                 \"\"\n",
    "\n",
    "# // \"What was the name of your first pet?\"\n",
    "# \"Skippy\" --> \"##ippy\"\n",
    "# \"Nananananananananananananananana Batman!\" --> \"####################################man!\""
   ]
  },
  {
   "cell_type": "code",
   "execution_count": 2,
   "metadata": {},
   "outputs": [],
   "source": [
    "# return masked string\n",
    "def maskify(cc):\n",
    "    cc_list = list(cc)\n",
    "    if len(cc_list) > 4:    \n",
    "        cc_list[:-4] = \"#\"*(len(cc)-4)\n",
    "    return ''.join(cc_list)"
   ]
  },
  {
   "cell_type": "code",
   "execution_count": 3,
   "metadata": {},
   "outputs": [
    {
     "data": {
      "text/plain": [
       "'########d2eA'"
      ]
     },
     "execution_count": 3,
     "metadata": {},
     "output_type": "execute_result"
    }
   ],
   "source": [
    "maskify('SF$SDfgsd2eA')"
   ]
  },
  {
   "cell_type": "code",
   "execution_count": null,
   "metadata": {},
   "outputs": [],
   "source": []
  }
 ],
 "metadata": {
  "kernelspec": {
   "display_name": "Python 3",
   "language": "python",
   "name": "python3"
  },
  "language_info": {
   "codemirror_mode": {
    "name": "ipython",
    "version": 3
   },
   "file_extension": ".py",
   "mimetype": "text/x-python",
   "name": "python",
   "nbconvert_exporter": "python",
   "pygments_lexer": "ipython3",
   "version": "3.9.6"
  }
 },
 "nbformat": 4,
 "nbformat_minor": 2
}
