{
 "cells": [
  {
   "cell_type": "code",
   "execution_count": 2,
   "metadata": {},
   "outputs": [],
   "source": [
    "# Alright, detective, one of our colleagues successfully observed our target person, \n",
    "# Robby the robber. We followed him to a secret warehouse, where we assume \n",
    "# to find all the stolen stuff. The door to this warehouse is secured by \n",
    "# an electronic combination lock. Unfortunately our spy isn't sure about \n",
    "# the PIN he saw, when Robby entered it.\n",
    "\n",
    "# The keypad has the following layout:\n",
    "\n",
    "# ┌───┬───┬───┐\n",
    "# │ 1 │ 2 │ 3 │\n",
    "# ├───┼───┼───┤\n",
    "# │ 4 │ 5 │ 6 │\n",
    "# ├───┼───┼───┤\n",
    "# │ 7 │ 8 │ 9 │\n",
    "# └───┼───┼───┘\n",
    "#     │ 0 │\n",
    "#     └───┘\n",
    "# He noted the PIN 1357, but he also said, it is possible that each of \n",
    "# the digits he saw could actually be another adjacent digit (horizontally \n",
    "# or vertically, but not diagonally). E.g. instead of the 1 it could also be \n",
    "# the 2 or 4. And instead of the 5 it could also be the 2, 4, 6 or 8.\n",
    "\n",
    "# He also mentioned, he knows this kind of locks. You can enter an unlimited \n",
    "# amount of wrong PINs, they never finally lock the system or sound the alarm. \n",
    "# That's why we can try out all possible (*) variations.\n",
    "\n",
    "# * possible in sense of: the observed PIN itself and all variations considering \n",
    "# the adjacent digits\n",
    "\n",
    "# Can you help us to find all those variations? It would be nice to have a function, \n",
    "# that returns an array (or a list in Java/Kotlin and C#) of all variations for an \n",
    "# observed PIN with a length of 1 to 8 digits. We could name the function getPINs \n",
    "# (get_pins in python, GetPINs in C#). But please note that all PINs, the observed \n",
    "# one and also the results, must be strings, because of potentially leading '0's. \n",
    "# We already prepared some test cases for you.\n",
    "\n",
    "# Detective, we are counting on you!\n"
   ]
  },
  {
   "cell_type": "code",
   "execution_count": 15,
   "metadata": {},
   "outputs": [],
   "source": [
    "import itertools\n",
    "\n",
    "def get_adjacent():\n",
    "    adjacent_key = {\n",
    "        '1': ['1', '2', '4'], \n",
    "        '2': ['1', '2', '3', '5'], \n",
    "        '3': ['2', '3', '6'], \n",
    "        '4': ['1', '4', '5', '7'], \n",
    "        '5': ['2', '4', '5', '6', '8'], \n",
    "        '6': ['3', '5', '6', '9'], \n",
    "        '7': ['4', '7', '8'], \n",
    "        '8': ['5', '7', '8', '9', '0'], \n",
    "        '9': ['6', '8', '9'], \n",
    "        '0': ['0', '8']\n",
    "    }\n",
    "    return adjacent_key\n",
    "\n",
    "def get_pins(observed):\n",
    "\n",
    "    num_digits = len(observed)\n",
    "    candidate_pins = []\n",
    "    adjacent_key = get_adjacent()\n",
    "\n",
    "    if not observed:\n",
    "        return []\n",
    "    \n",
    "    candidate_pins = adjacent_key[observed[0]]\n",
    "    for ii in range(1, num_digits):\n",
    "        next_adjacent_list = adjacent_key[observed[ii]]     # get adjacent list for character ii\n",
    "        candidate_pins = [item[0]+item[1] for item in itertools.product(candidate_pins, next_adjacent_list)]\n",
    "\n",
    "    return candidate_pins"
   ]
  },
  {
   "cell_type": "code",
   "execution_count": 16,
   "metadata": {},
   "outputs": [
    {
     "ename": "TypeError",
     "evalue": "can only concatenate list (not \"str\") to list",
     "output_type": "error",
     "traceback": [
      "\u001b[0;31m---------------------------------------------------------------------------\u001b[0m",
      "\u001b[0;31mTypeError\u001b[0m                                 Traceback (most recent call last)",
      "Cell \u001b[0;32mIn[16], line 1\u001b[0m\n\u001b[0;32m----> 1\u001b[0m \u001b[38;5;28mprint\u001b[39m(\u001b[43mget_pins\u001b[49m\u001b[43m(\u001b[49m\u001b[38;5;124;43m'\u001b[39;49m\u001b[38;5;124;43m369\u001b[39;49m\u001b[38;5;124;43m'\u001b[39;49m\u001b[43m)\u001b[49m)\n\u001b[1;32m      3\u001b[0m     \u001b[38;5;66;03m# [\u001b[39;00m\n\u001b[1;32m      4\u001b[0m     \u001b[38;5;66;03m#         \"339\",\"366\",\"399\",\"658\",\"636\",\"258\",\"268\",\"669\",\"668\",\"266\",\"369\",\"398\",\u001b[39;00m\n\u001b[1;32m      5\u001b[0m     \u001b[38;5;66;03m#         \"256\",\"296\",\"259\",\"368\",\"638\",\"396\",\"238\",\"356\",\"659\",\"639\",\"666\",\"359\",\u001b[39;00m\n\u001b[1;32m      6\u001b[0m     \u001b[38;5;66;03m#         \"336\",\"299\",\"338\",\"696\",\"269\",\"358\",\"656\",\"698\",\"699\",\"298\",\"236\",\"239\"\u001b[39;00m\n\u001b[1;32m      7\u001b[0m     \u001b[38;5;66;03m#     ]\u001b[39;00m\n",
      "Cell \u001b[0;32mIn[15], line 41\u001b[0m, in \u001b[0;36mget_pins\u001b[0;34m(observed)\u001b[0m\n\u001b[1;32m     39\u001b[0m \u001b[38;5;28;01mfor\u001b[39;00m ii \u001b[38;5;129;01min\u001b[39;00m \u001b[38;5;28mrange\u001b[39m(\u001b[38;5;241m1\u001b[39m, num_digits):\n\u001b[1;32m     40\u001b[0m     next_adjacent_list \u001b[38;5;241m=\u001b[39m adjacent_key[observed[ii]]     \u001b[38;5;66;03m# get adjacent list for character ii\u001b[39;00m\n\u001b[0;32m---> 41\u001b[0m     product_list \u001b[38;5;241m=\u001b[39m [item[\u001b[38;5;241m0\u001b[39m]\u001b[38;5;241m+\u001b[39mitem[\u001b[38;5;241m1\u001b[39m] \u001b[38;5;28;01mfor\u001b[39;00m item \u001b[38;5;129;01min\u001b[39;00m itertools\u001b[38;5;241m.\u001b[39mproduct(candidate_pins, next_adjacent_list)]\n\u001b[1;32m     42\u001b[0m     \u001b[38;5;28mprint\u001b[39m(product_list)\n\u001b[1;32m     43\u001b[0m     candidate_pins \u001b[38;5;241m=\u001b[39m product_list\n",
      "Cell \u001b[0;32mIn[15], line 41\u001b[0m, in \u001b[0;36m<listcomp>\u001b[0;34m(.0)\u001b[0m\n\u001b[1;32m     39\u001b[0m \u001b[38;5;28;01mfor\u001b[39;00m ii \u001b[38;5;129;01min\u001b[39;00m \u001b[38;5;28mrange\u001b[39m(\u001b[38;5;241m1\u001b[39m, num_digits):\n\u001b[1;32m     40\u001b[0m     next_adjacent_list \u001b[38;5;241m=\u001b[39m adjacent_key[observed[ii]]     \u001b[38;5;66;03m# get adjacent list for character ii\u001b[39;00m\n\u001b[0;32m---> 41\u001b[0m     product_list \u001b[38;5;241m=\u001b[39m [\u001b[43mitem\u001b[49m\u001b[43m[\u001b[49m\u001b[38;5;241;43m0\u001b[39;49m\u001b[43m]\u001b[49m\u001b[38;5;241;43m+\u001b[39;49m\u001b[43mitem\u001b[49m\u001b[43m[\u001b[49m\u001b[38;5;241;43m1\u001b[39;49m\u001b[43m]\u001b[49m \u001b[38;5;28;01mfor\u001b[39;00m item \u001b[38;5;129;01min\u001b[39;00m itertools\u001b[38;5;241m.\u001b[39mproduct(candidate_pins, next_adjacent_list)]\n\u001b[1;32m     42\u001b[0m     \u001b[38;5;28mprint\u001b[39m(product_list)\n\u001b[1;32m     43\u001b[0m     candidate_pins \u001b[38;5;241m=\u001b[39m product_list\n",
      "\u001b[0;31mTypeError\u001b[0m: can only concatenate list (not \"str\") to list"
     ]
    }
   ],
   "source": [
    "print(get_pins('369'))\n",
    "\n",
    "    # [\n",
    "    #         \"339\",\"366\",\"399\",\"658\",\"636\",\"258\",\"268\",\"669\",\"668\",\"266\",\"369\",\"398\",\n",
    "    #         \"256\",\"296\",\"259\",\"368\",\"638\",\"396\",\"238\",\"356\",\"659\",\"639\",\"666\",\"359\",\n",
    "    #         \"336\",\"299\",\"338\",\"696\",\"269\",\"358\",\"656\",\"698\",\"699\",\"298\",\"236\",\"239\"\n",
    "    #     ]"
   ]
  },
  {
   "cell_type": "code",
   "execution_count": 8,
   "metadata": {},
   "outputs": [],
   "source": [
    "a = get_adjacent()"
   ]
  },
  {
   "cell_type": "code",
   "execution_count": 9,
   "metadata": {},
   "outputs": [
    {
     "data": {
      "text/plain": [
       "[0, 8]"
      ]
     },
     "execution_count": 9,
     "metadata": {},
     "output_type": "execute_result"
    }
   ],
   "source": [
    "a[0]"
   ]
  },
  {
   "cell_type": "code",
   "execution_count": 10,
   "metadata": {},
   "outputs": [
    {
     "data": {
      "text/plain": [
       "[1, 2, 3]"
      ]
     },
     "execution_count": 10,
     "metadata": {},
     "output_type": "execute_result"
    }
   ],
   "source": [
    "[item for item in range(1,4)]"
   ]
  },
  {
   "cell_type": "code",
   "execution_count": null,
   "metadata": {},
   "outputs": [],
   "source": []
  }
 ],
 "metadata": {
  "kernelspec": {
   "display_name": "Python 3",
   "language": "python",
   "name": "python3"
  },
  "language_info": {
   "codemirror_mode": {
    "name": "ipython",
    "version": 3
   },
   "file_extension": ".py",
   "mimetype": "text/x-python",
   "name": "python",
   "nbconvert_exporter": "python",
   "pygments_lexer": "ipython3",
   "version": "3.9.6"
  }
 },
 "nbformat": 4,
 "nbformat_minor": 2
}
