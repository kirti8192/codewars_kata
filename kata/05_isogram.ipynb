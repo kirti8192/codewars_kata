{
 "cells": [
  {
   "cell_type": "code",
   "execution_count": 1,
   "metadata": {},
   "outputs": [],
   "source": [
    "# An isogram is a word that has no repeating letters   \n",
    "# #  consecutive or non-consecutive. \n",
    "# Implement a function that determines whether a string that contains only letters is an isogram. Assume the empty string is an isogram. Ignore letter case.\n",
    "\n",
    "# Example: (Input --> Output)\n",
    "\n",
    "# \"Dermatoglyphics\" --> true\n",
    "# \"aba\" --> false\n",
    "# \"moOse\" --> false (ignore letter case)"
   ]
  },
  {
   "cell_type": "code",
   "execution_count": 45,
   "metadata": {},
   "outputs": [],
   "source": [
    "def is_isogram(string):\n",
    "    str_list_orig = list(set(string.lower().replace(' ', '')))\n",
    "    str_list_orig.sort()\n",
    "    str_list = list(string.lower())\n",
    "    str_list.sort()\n",
    "    if str_list == str_list_orig:\n",
    "        isogram = 'true'\n",
    "    else:\n",
    "        isogram = 'false'\n",
    "    return f'\\\"{string}\\\" --> {isogram}'\n"
   ]
  },
  {
   "cell_type": "code",
   "execution_count": 46,
   "metadata": {},
   "outputs": [
    {
     "name": "stdout",
     "output_type": "stream",
     "text": [
      "['a', 'c', 'd', 'e', 'g', 'h', 'i', 'l', 'm', 'o', 'p', 'r', 's', 't', 'y']\n",
      "['a', 'c', 'd', 'e', 'g', 'h', 'i', 'l', 'm', 'o', 'p', 'r', 's', 't', 'y']\n",
      "\"Dermatoglyphics\" --> true\n",
      "['a', 'g', 'i', 'm', 'o', 'r', 's']\n",
      "['a', 'g', 'i', 'm', 'o', 'r', 's']\n",
      "\"isogram\" --> true\n",
      "['a', 'a', 'b']\n",
      "['a', 'b']\n",
      "\"aba\" --> false\n",
      "['e', 'm', 'o', 'o', 's']\n",
      "['e', 'm', 'o', 's']\n",
      "\"moOse\" --> false\n",
      "['a', 'g', 'i', 'i', 'm', 'o', 'r', 's', 's']\n",
      "['a', 'g', 'i', 'm', 'o', 'r', 's']\n",
      "\"isIsogram\" --> false\n",
      "[]\n",
      "[]\n",
      "\"\" --> true\n"
     ]
    }
   ],
   "source": [
    "is_isogram(\"Dermatoglyphics\")   #  True )\n",
    "is_isogram(\"isogram\")   #  True )\n",
    "is_isogram(\"aba\")   #  False   #  \"same chars may not be adjacent\" )\n",
    "is_isogram(\"moOse\")   #  False   #  \"same chars may not be same case\" )\n",
    "is_isogram(\"isIsogram\")   #  False )\n",
    "is_isogram(\"\")   #  True   #  \"an empty string is a valid isogram\" )"
   ]
  },
  {
   "cell_type": "code",
   "execution_count": 38,
   "metadata": {},
   "outputs": [
    {
     "data": {
      "text/plain": [
       "['a', 'o', 'e', ' ', 'u', 'a', 'o', 'e', ' ', 'u']"
      ]
     },
     "execution_count": 38,
     "metadata": {},
     "output_type": "execute_result"
    }
   ],
   "source": [
    "a = \"aoe uaoe u\"\n",
    "list(a)\n"
   ]
  },
  {
   "cell_type": "code",
   "execution_count": 9,
   "metadata": {},
   "outputs": [
    {
     "data": {
      "text/plain": [
       "'aoeuaoeu'"
      ]
     },
     "execution_count": 9,
     "metadata": {},
     "output_type": "execute_result"
    }
   ],
   "source": [
    "a.replace(' ', '')"
   ]
  },
  {
   "cell_type": "code",
   "execution_count": 20,
   "metadata": {},
   "outputs": [
    {
     "data": {
      "text/plain": [
       "['a', 'o', 'e', ' ', 'u', 'a', 'o', 'e', ' ', 'u']"
      ]
     },
     "execution_count": 20,
     "metadata": {},
     "output_type": "execute_result"
    }
   ],
   "source": [
    "list(a)"
   ]
  },
  {
   "cell_type": "code",
   "execution_count": 21,
   "metadata": {},
   "outputs": [],
   "source": [
    "b = list(set(a.replace(' ', '')))"
   ]
  },
  {
   "cell_type": "code",
   "execution_count": 22,
   "metadata": {},
   "outputs": [
    {
     "name": "stdout",
     "output_type": "stream",
     "text": [
      "['a', 'e', 'o', 'u']\n"
     ]
    }
   ],
   "source": [
    "print(sorted(b))"
   ]
  },
  {
   "cell_type": "code",
   "execution_count": 24,
   "metadata": {},
   "outputs": [],
   "source": [
    "b.sort()"
   ]
  },
  {
   "cell_type": "code",
   "execution_count": 25,
   "metadata": {},
   "outputs": [
    {
     "data": {
      "text/plain": [
       "['a', 'e', 'o', 'u']"
      ]
     },
     "execution_count": 25,
     "metadata": {},
     "output_type": "execute_result"
    }
   ],
   "source": [
    "b\n"
   ]
  },
  {
   "cell_type": "code",
   "execution_count": 26,
   "metadata": {},
   "outputs": [
    {
     "data": {
      "text/plain": [
       "True"
      ]
     },
     "execution_count": 26,
     "metadata": {},
     "output_type": "execute_result"
    }
   ],
   "source": [
    "b == ['a', 'e', 'o', 'u']"
   ]
  },
  {
   "cell_type": "code",
   "execution_count": 27,
   "metadata": {},
   "outputs": [
    {
     "name": "stdout",
     "output_type": "stream",
     "text": [
      "\"\n"
     ]
    }
   ],
   "source": [
    "print(f'\\\"')"
   ]
  },
  {
   "cell_type": "code",
   "execution_count": 40,
   "metadata": {},
   "outputs": [],
   "source": [
    "list(\"aoeu\").sort()"
   ]
  },
  {
   "cell_type": "code",
   "execution_count": null,
   "metadata": {},
   "outputs": [],
   "source": []
  }
 ],
 "metadata": {
  "kernelspec": {
   "display_name": "Python 3",
   "language": "python",
   "name": "python3"
  },
  "language_info": {
   "codemirror_mode": {
    "name": "ipython",
    "version": 3
   },
   "file_extension": ".py",
   "mimetype": "text/x-python",
   "name": "python",
   "nbconvert_exporter": "python",
   "pygments_lexer": "ipython3",
   "version": "3.9.6"
  }
 },
 "nbformat": 4,
 "nbformat_minor": 2
}
