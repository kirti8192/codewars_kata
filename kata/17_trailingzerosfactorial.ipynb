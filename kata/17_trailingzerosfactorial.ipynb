{
 "cells": [
  {
   "cell_type": "code",
   "execution_count": 1,
   "metadata": {},
   "outputs": [],
   "source": [
    "# Write a program that will calculate the number of trailing zeros in a factorial of \n",
    "# a given number.\n",
    "\n",
    "# N! = 1 * 2 * 3 *  ... * N\n",
    "\n",
    "# Be careful 1000! has 2568 digits...\n",
    "\n",
    "# For more info, see: http://mathworld.wolfram.com/Factorial.html\n",
    "\n",
    "# Examples\n",
    "\n",
    "# N\tProduct\tN factorial\tTrailing zeros\n",
    "# 6\t1*2*3*4*5*6\t720\t1\n",
    "# 12\t1*2*3*4*5*6*7*8*9*10*11*12\t479001600\t2\n",
    "\n",
    "\n",
    "# Hint: You're not meant to calculate the factorial. Find another way to find \n",
    "# the number of zeros."
   ]
  },
  {
   "cell_type": "code",
   "execution_count": 2,
   "metadata": {},
   "outputs": [],
   "source": [
    "def zeros(n):\n",
    "    return 0"
   ]
  },
  {
   "cell_type": "code",
   "execution_count": null,
   "metadata": {},
   "outputs": [],
   "source": [
    "print(zeros(100000))  # 24999"
   ]
  }
 ],
 "metadata": {
  "kernelspec": {
   "display_name": "Python 3",
   "language": "python",
   "name": "python3"
  },
  "language_info": {
   "codemirror_mode": {
    "name": "ipython",
    "version": 3
   },
   "file_extension": ".py",
   "mimetype": "text/x-python",
   "name": "python",
   "nbconvert_exporter": "python",
   "pygments_lexer": "ipython3",
   "version": "3.9.6"
  }
 },
 "nbformat": 4,
 "nbformat_minor": 2
}
