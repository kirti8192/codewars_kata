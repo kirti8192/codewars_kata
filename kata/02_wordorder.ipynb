{
 "cells": [
  {
   "cell_type": "code",
   "execution_count": 1,
   "metadata": {},
   "outputs": [],
   "source": [
    "# Your task is to sort a given string. Each word in the string will contain a single number. This number is the position the word should have in the result.\n",
    "\n",
    "# Note: Numbers can be from 1 to 9. So 1 will be the first word (not 0).\n",
    "\n",
    "# If the input string is empty, return an empty string. The words in the input String will only contain valid consecutive numbers.\n",
    "\n",
    "# Examples\n",
    "\n",
    "# \"is2 Thi1s T4est 3a\"  -->  \"Thi1s is2 3a T4est\"\n",
    "# \"4of Fo1r pe6ople g3ood th5e the2\"  -->  \"Fo1r the2 g3ood 4of th5e pe6ople\"\n",
    "# \"\"  -->  \"\""
   ]
  },
  {
   "cell_type": "code",
   "execution_count": 36,
   "metadata": {},
   "outputs": [],
   "source": [
    "import re\n",
    "\n",
    "def order(sentence):\n",
    "    # check if string is empty\n",
    "    if not sentence:\n",
    "        return sentence\n",
    "    else:\n",
    "        word_cnt = len(sentence.split(' '))\n",
    "        ordered = []\n",
    "        pattern = r\"\\w*\\d\\w*\"  # Matches words containing digits\n",
    "\n",
    "        for idx in range(word_cnt):\n",
    "            word_idx = idx+1\n",
    "            pattern = fr\"\\w*{str(word_idx)}\\w*\"\n",
    "            match = re.findall(pattern, sentence)\n",
    "            ordered.append(match[0])\n",
    "            # print(ordered)\n",
    "\n",
    "        ordered = ' '.join(ordered)\n",
    "\n",
    "    return ordered"
   ]
  },
  {
   "cell_type": "code",
   "execution_count": 37,
   "metadata": {},
   "outputs": [
    {
     "name": "stdout",
     "output_type": "stream",
     "text": [
      "Thi1s is2 3a T4est\n"
     ]
    }
   ],
   "source": [
    "print(order(\"is2 Thi1s T4est 3a\"))     # \"Thi1s is2 3a T4est\""
   ]
  },
  {
   "cell_type": "code",
   "execution_count": null,
   "metadata": {},
   "outputs": [],
   "source": []
  }
 ],
 "metadata": {
  "kernelspec": {
   "display_name": "Python 3",
   "language": "python",
   "name": "python3"
  },
  "language_info": {
   "codemirror_mode": {
    "name": "ipython",
    "version": 3
   },
   "file_extension": ".py",
   "mimetype": "text/x-python",
   "name": "python",
   "nbconvert_exporter": "python",
   "pygments_lexer": "ipython3",
   "version": "3.9.6"
  }
 },
 "nbformat": 4,
 "nbformat_minor": 2
}
