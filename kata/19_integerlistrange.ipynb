{
 "cells": [
  {
   "cell_type": "code",
   "execution_count": 1,
   "metadata": {},
   "outputs": [],
   "source": [
    "# A format for expressing an ordered list of integers is to use a comma separated list of either\n",
    "\n",
    "# individual integers\n",
    "# or a range of integers denoted by the starting integer separated from the end integer in the range by a dash, '-'. The range includes all integers in the interval including both endpoints. It is not considered a range unless it spans at least 3 numbers. For example \"12,13,15-17\"\n",
    "# Complete the solution so that it takes a list of integers in increasing order and returns a correctly formatted string in the range format.\n",
    "\n",
    "# Example:\n",
    "\n",
    "# solution([-10, -9, -8, -6, -3, -2, -1, 0, 1, 3, 4, 5, 7, 8, 9, 10, 11, 14, 15, 17, 18, 19, 20])\n",
    "# # returns \"-10--8,-6,-3-1,3-5,7-11,14,15,17-20\""
   ]
  },
  {
   "cell_type": "code",
   "execution_count": 18,
   "metadata": {},
   "outputs": [],
   "source": [
    "def add_to_str(fmt_str, current_range):\n",
    "    if len(current_range) == 1:\n",
    "        fmt_str.append(f'{current_range[0]}')\n",
    "    elif len(current_range) == 2:\n",
    "        fmt_str.append(f'{current_range[0]}')\n",
    "        fmt_str.append(f'{current_range[1]}')\n",
    "    else:\n",
    "        fmt_str.append(f'{current_range[0]}-{current_range[-1]}')\n",
    "\n",
    "    return fmt_str\n",
    "\n",
    "def solution(args):\n",
    "    current_range = []\n",
    "    current_range.append(args[0])\n",
    "    fmt_str = []\n",
    "    for (x,y) in zip(args[:-1], args[1:]):\n",
    "        if x+1 == y:\n",
    "            current_range.append(y)\n",
    "        else:\n",
    "            fmt_str = add_to_str(fmt_str, current_range)\n",
    "            current_range = [y]\n",
    "        # print(fmt_str)\n",
    "\n",
    "    fmt_str = add_to_str(fmt_str, current_range)\n",
    "\n",
    "    return ','.join(fmt_str)"
   ]
  },
  {
   "cell_type": "code",
   "execution_count": 19,
   "metadata": {},
   "outputs": [
    {
     "name": "stdout",
     "output_type": "stream",
     "text": [
      "-6,-3-1,3-5,7-11,14,15,17-20\n"
     ]
    }
   ],
   "source": [
    "print(solution([-6,-3,-2,-1,0,1,3,4,5,7,8,9,10,11,14,15,17,18,19,20]))   # '-6,-3-1,3-5,7-11,14,15,17-20')"
   ]
  },
  {
   "cell_type": "code",
   "execution_count": null,
   "metadata": {},
   "outputs": [],
   "source": []
  }
 ],
 "metadata": {
  "kernelspec": {
   "display_name": "Python 3",
   "language": "python",
   "name": "python3"
  },
  "language_info": {
   "codemirror_mode": {
    "name": "ipython",
    "version": 3
   },
   "file_extension": ".py",
   "mimetype": "text/x-python",
   "name": "python",
   "nbconvert_exporter": "python",
   "pygments_lexer": "ipython3",
   "version": "3.9.6"
  }
 },
 "nbformat": 4,
 "nbformat_minor": 2
}
