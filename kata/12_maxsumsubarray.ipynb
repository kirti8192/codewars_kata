{
 "cells": [
  {
   "cell_type": "code",
   "execution_count": 1,
   "metadata": {},
   "outputs": [],
   "source": [
    "# The maximum sum subarray problem consists in finding the maximum sum of a contiguous subsequence in an array or list of integers:\n",
    "\n",
    "# max_sequence([-2, 1, -3, 4, -1, 2, 1, -5, 4])\n",
    "# # should be 6: [4, -1, 2, 1]\n",
    "# Easy case is when the list is made up of only positive numbers and the maximum sum is the sum of the whole array. If the list is made up of only negative numbers, return 0 instead.\n",
    "\n",
    "# Empty list is considered to have zero greatest sum. Note that the empty list or array is also a valid sublist/subarray."
   ]
  },
  {
   "cell_type": "code",
   "execution_count": 29,
   "metadata": {},
   "outputs": [],
   "source": [
    "# def max_sequence(arr):\n",
    "#     if all(num<0 for num in arr):\n",
    "#         return 0\n",
    "#     max_sum = 0\n",
    "#     for idx in range(len(arr)):\n",
    "#         run_sum = 0\n",
    "#         for item_n in arr[idx:]:\n",
    "#             run_sum += item_n\n",
    "#             if run_sum > max_sum:\n",
    "#                 max_sum = run_sum\n",
    "\n",
    "#     return max_sum\n"
   ]
  },
  {
   "cell_type": "code",
   "execution_count": 39,
   "metadata": {},
   "outputs": [],
   "source": [
    "# import numpy as np\n",
    "\n",
    "# def max_sequence(arr):\n",
    "#     arr = np.array(arr)\n",
    "#     if (arr<0).all():\n",
    "#         return 0\n",
    "    \n",
    "#     max_sum = 0\n",
    "#     for idx in np.arange(len(arr)):\n",
    "#         max_subarray = max(np.cumsum(arr[idx:]))\n",
    "#         if max_subarray > max_sum:\n",
    "#             max_sum = max_subarray\n",
    "\n",
    "#     return max_sum\n",
    "\n",
    "\n"
   ]
  },
  {
   "cell_type": "code",
   "execution_count": 106,
   "metadata": {},
   "outputs": [],
   "source": [
    "import numpy as np\n",
    "\n",
    "def max_sequence(arr):\n",
    "    arr = np.array(arr)\n",
    "    if (arr<0).all():\n",
    "        return 0\n",
    "    \n",
    "    cumsum_arr = np.cumsum(arr)\n",
    "    # print(f'Cumulative Sum: {cumsum_arr}\\n')\n",
    "    maxsum = cumsum_arr.max()\n",
    "    # print(f'Max value 0:    {maxsum}\\n')\n",
    "    for idx in np.arange(len(arr)-1):\n",
    "        cumsum_arr -= arr[idx]\n",
    "        # print(f'Cumulative Sum: {cumsum_arr} --> {idx+1}\\n')\n",
    "        maxsum_subarray = cumsum_arr[idx+1:].max()\n",
    "        # print(f'Max value temp: {maxsum_subarray}\\n')\n",
    "        \n",
    "        maxsum = max(maxsum_subarray, maxsum)\n",
    "            # print(f'Max value {idx+1}: {maxsum}\\n')\n",
    "    \n",
    "\n",
    "    return maxsum\n",
    "\n",
    "\n"
   ]
  },
  {
   "cell_type": "code",
   "execution_count": 107,
   "metadata": {},
   "outputs": [],
   "source": [
    "# arr = np.array([-2, 1, -3, 4, -1, 2, 1, -5, 4])\n",
    "# cumsum_arr = np.cumsum(arr)\n",
    "# print(cumsum_arr)\n",
    "# cumsum_arr -= arr[0]\n",
    "# print(cumsum_arr)\n",
    "# cumsum_arr -= arr[1]\n",
    "# print(cumsum_arr)\n"
   ]
  },
  {
   "cell_type": "code",
   "execution_count": 108,
   "metadata": {},
   "outputs": [
    {
     "name": "stdout",
     "output_type": "stream",
     "text": [
      "6\n"
     ]
    }
   ],
   "source": [
    "print(max_sequence([-2, 1, -3, 4, -1, 2, 1, -5, 4]))    # 6"
   ]
  },
  {
   "cell_type": "code",
   "execution_count": 97,
   "metadata": {},
   "outputs": [],
   "source": [
    "# import random\n",
    "# print(max_sequence([random.randint(-3000, 3000) for _ in range(10000)]))    # 0"
   ]
  },
  {
   "cell_type": "code",
   "execution_count": 98,
   "metadata": {},
   "outputs": [],
   "source": [
    "# import random\n",
    "\n",
    "# random_numbers = [random.random() for _ in range(10000)]"
   ]
  },
  {
   "cell_type": "code",
   "execution_count": 99,
   "metadata": {},
   "outputs": [],
   "source": [
    "\n",
    "# # If you want integers within a specific range, for example, between 1 and 100:\n",
    "# random_integers = [random.randint(-3000, -1000) for _ in range(10000)]"
   ]
  },
  {
   "cell_type": "code",
   "execution_count": 100,
   "metadata": {},
   "outputs": [],
   "source": [
    "# random_integers[:5]"
   ]
  },
  {
   "cell_type": "code",
   "execution_count": 101,
   "metadata": {},
   "outputs": [
    {
     "name": "stdout",
     "output_type": "stream",
     "text": [
      "111472\n",
      "         83721 function calls in 0.045 seconds\n",
      "\n",
      "   Ordered by: cumulative time\n",
      "\n",
      "   ncalls  tottime  percall  cumtime  percall filename:lineno(function)\n",
      "        2    0.000    0.000    0.045    0.022 interactiveshell.py:3514(run_code)\n",
      "        2    0.000    0.000    0.045    0.022 {built-in method builtins.exec}\n",
      "        1    0.000    0.000    0.045    0.045 184071564.py:5(<module>)\n",
      "        1    0.020    0.020    0.034    0.034 347013686.py:3(max_sequence)\n",
      "    10000    0.001    0.000    0.014    0.000 {method 'max' of 'numpy.ndarray' objects}\n",
      "    10000    0.001    0.000    0.012    0.000 _methods.py:39(_amax)\n",
      "    10001    0.012    0.000    0.012    0.000 {method 'reduce' of 'numpy.ufunc' objects}\n",
      "        1    0.001    0.001    0.010    0.010 184071564.py:5(<listcomp>)\n",
      "    10000    0.002    0.000    0.009    0.000 random.py:334(randint)\n",
      "    10000    0.004    0.000    0.007    0.000 random.py:290(randrange)\n",
      "    10000    0.002    0.000    0.003    0.000 random.py:237(_randbelow_with_getrandbits)\n",
      "    13633    0.001    0.000    0.001    0.000 {method 'getrandbits' of '_random.Random' objects}\n",
      "        1    0.000    0.000    0.000    0.000 {built-in method numpy.array}\n",
      "    10000    0.000    0.000    0.000    0.000 {method 'bit_length' of 'int' objects}\n",
      "        1    0.000    0.000    0.000    0.000 fromnumeric.py:2512(cumsum)\n",
      "        1    0.000    0.000    0.000    0.000 fromnumeric.py:53(_wrapfunc)\n",
      "        1    0.000    0.000    0.000    0.000 {method 'cumsum' of 'numpy.ndarray' objects}\n",
      "        1    0.000    0.000    0.000    0.000 {built-in method builtins.print}\n",
      "        2    0.000    0.000    0.000    0.000 iostream.py:655(write)\n",
      "        2    0.000    0.000    0.000    0.000 iostream.py:577(_schedule_flush)\n",
      "        2    0.000    0.000    0.000    0.000 codeop.py:142(__call__)\n",
      "        1    0.000    0.000    0.000    0.000 iostream.py:259(schedule)\n",
      "        2    0.000    0.000    0.000    0.000 {built-in method builtins.compile}\n",
      "        1    0.000    0.000    0.000    0.000 socket.py:626(send)\n",
      "        1    0.000    0.000    0.000    0.000 {method 'all' of 'numpy.ndarray' objects}\n",
      "        1    0.000    0.000    0.000    0.000 _methods.py:61(_all)\n",
      "        1    0.000    0.000    0.000    0.000 {built-in method numpy.arange}\n",
      "        2    0.000    0.000    0.000    0.000 contextlib.py:242(helper)\n",
      "        1    0.000    0.000    0.000    0.000 threading.py:1113(is_alive)\n",
      "        2    0.000    0.000    0.000    0.000 contextlib.py:86(__init__)\n",
      "        2    0.000    0.000    0.000    0.000 traitlets.py:676(__get__)\n",
      "        2    0.000    0.000    0.000    0.000 contextlib.py:121(__exit__)\n",
      "        2    0.000    0.000    0.000    0.000 contextlib.py:112(__enter__)\n",
      "        2    0.000    0.000    0.000    0.000 iostream.py:505(parent_header)\n",
      "        4    0.000    0.000    0.000    0.000 {built-in method builtins.next}\n",
      "        5    0.000    0.000    0.000    0.000 {built-in method builtins.getattr}\n",
      "        2    0.000    0.000    0.000    0.000 iostream.py:550(_is_master_process)\n",
      "        4    0.000    0.000    0.000    0.000 compilerop.py:180(extra_flags)\n",
      "        1    0.000    0.000    0.000    0.000 threading.py:1059(_wait_for_tstate_lock)\n",
      "        1    0.000    0.000    0.000    0.000 184071564.py:6(<module>)\n",
      "        2    0.000    0.000    0.000    0.000 traitlets.py:629(get)\n",
      "        2    0.000    0.000    0.000    0.000 interactiveshell.py:3466(compare)\n",
      "        1    0.000    0.000    0.000    0.000 iostream.py:138(_event_pipe)\n",
      "        2    0.000    0.000    0.000    0.000 {method 'write' of '_io.StringIO' objects}\n",
      "        1    0.000    0.000    0.000    0.000 {method 'acquire' of '_thread.lock' objects}\n",
      "        3    0.000    0.000    0.000    0.000 {built-in method builtins.len}\n",
      "        2    0.000    0.000    0.000    0.000 interactiveshell.py:1255(user_global_ns)\n",
      "        2    0.000    0.000    0.000    0.000 {method 'get' of 'ContextVar' objects}\n",
      "        1    0.000    0.000    0.000    0.000 fromnumeric.py:2508(_cumsum_dispatcher)\n",
      "        1    0.000    0.000    0.000    0.000 tz.py:74(utcoffset)\n",
      "        1    0.000    0.000    0.000    0.000 threading.py:529(is_set)\n",
      "        2    0.000    0.000    0.000    0.000 {built-in method builtins.isinstance}\n",
      "        2    0.000    0.000    0.000    0.000 {method 'items' of 'dict' objects}\n",
      "        2    0.000    0.000    0.000    0.000 {method '__exit__' of '_thread.RLock' objects}\n",
      "        4    0.000    0.000    0.000    0.000 typing.py:1340(cast)\n",
      "        2    0.000    0.000    0.000    0.000 {built-in method posix.getpid}\n",
      "        1    0.000    0.000    0.000    0.000 {method 'disable' of '_lsprof.Profiler' objects}\n",
      "        1    0.000    0.000    0.000    0.000 {method 'append' of 'collections.deque' objects}\n",
      "\n",
      "\n"
     ]
    },
    {
     "data": {
      "text/plain": [
       "<pstats.Stats at 0x106dd66d0>"
      ]
     },
     "execution_count": 101,
     "metadata": {},
     "output_type": "execute_result"
    }
   ],
   "source": [
    "import cProfile, pstats, random\n",
    "\n",
    "profiler = cProfile.Profile()\n",
    "profiler.enable()\n",
    "print(max_sequence([random.randint(-3000, 3000) for _ in range(10000)]))    # 0\n",
    "profiler.disable()\n",
    "\n",
    "stats = pstats.Stats(profiler)\n",
    "stats.strip_dirs().sort_stats(\"cumulative\").print_stats(100)  # Sort by time spent in functions"
   ]
  },
  {
   "cell_type": "code",
   "execution_count": 102,
   "metadata": {},
   "outputs": [
    {
     "name": "stdout",
     "output_type": "stream",
     "text": [
      "6\n",
      "Timer unit: 1e-09 s\n",
      "\n",
      "Total time: 0.000131 s\n",
      "File: /var/folders/3l/rrvm_lhj36q_33r0v4_6bn280000gn/T/ipykernel_92099/347013686.py\n",
      "Function: max_sequence at line 3\n",
      "\n",
      "Line #      Hits         Time  Per Hit   % Time  Line Contents\n",
      "==============================================================\n",
      "     3                                           def max_sequence(arr):\n",
      "     4         1      12000.0  12000.0      9.2      arr = np.array(arr)\n",
      "     5         1      31000.0  31000.0     23.7      if (arr<0).all():\n",
      "     6                                                   return 0\n",
      "     7                                               \n",
      "     8         1      15000.0  15000.0     11.5      cumsum_arr = np.cumsum(arr)\n",
      "     9                                               # print(f'Cumulative Sum: {cumsum_arr}\\n')\n",
      "    10         1       7000.0   7000.0      5.3      maxsum = cumsum_arr.max()\n",
      "    11                                               # print(f'Max value 0:    {maxsum}\\n')\n",
      "    12         9      20000.0   2222.2     15.3      for idx in np.arange(len(arr)-1):\n",
      "    13         8      19000.0   2375.0     14.5          cumsum_arr -= arr[idx]\n",
      "    14                                                   # print(f'Cumulative Sum: {cumsum_arr} --> {idx+1}\\n')\n",
      "    15         8      24000.0   3000.0     18.3          maxsum_subarray = cumsum_arr[idx+1:].max()\n",
      "    16                                                   # print(f'Max value temp: {maxsum_subarray}\\n')\n",
      "    17                                                   \n",
      "    18         8       3000.0    375.0      2.3          if maxsum_subarray > maxsum:\n",
      "    19         2          0.0      0.0      0.0              maxsum = maxsum_subarray\n",
      "    20                                                       # print(f'Max value {idx+1}: {maxsum}\\n')\n",
      "    21                                               \n",
      "    22                                           \n",
      "    23         1          0.0      0.0      0.0      return maxsum\n",
      "\n"
     ]
    }
   ],
   "source": [
    "from line_profiler import LineProfiler\n",
    "\n",
    "profiler = LineProfiler()\n",
    "profiler.add_function(max_sequence)\n",
    "profiler.enable()\n",
    "print(max_sequence([-2, 1, -3, 4, -1, 2, 1, -5, 4]))    # 0\n",
    "profiler.disable()\n",
    "profiler.print_stats()"
   ]
  },
  {
   "cell_type": "code",
   "execution_count": 103,
   "metadata": {},
   "outputs": [],
   "source": [
    "import numpy as np\n",
    "\n",
    "def max_sequence_ai(arr):\n",
    "    arr = np.array(arr)\n",
    "    \n",
    "    if (arr < 0).all():\n",
    "        return 0  # If all numbers are negative, return 0\n",
    "    \n",
    "    max_sum = cur_sum = 0\n",
    "    for num in arr:\n",
    "        cur_sum = max(0, cur_sum + num)  # If sum drops below 0, reset to 0\n",
    "        max_sum = max(max_sum, cur_sum)\n",
    "    \n",
    "    return max_sum"
   ]
  },
  {
   "cell_type": "code",
   "execution_count": 105,
   "metadata": {},
   "outputs": [
    {
     "name": "stdout",
     "output_type": "stream",
     "text": [
      "6\n",
      "Timer unit: 1e-09 s\n",
      "\n",
      "Total time: 0 s\n",
      "File: /var/folders/3l/rrvm_lhj36q_33r0v4_6bn280000gn/T/ipykernel_92099/347013686.py\n",
      "Function: max_sequence at line 3\n",
      "\n",
      "Line #      Hits         Time  Per Hit   % Time  Line Contents\n",
      "==============================================================\n",
      "     3                                           def max_sequence(arr):\n",
      "     4                                               arr = np.array(arr)\n",
      "     5                                               if (arr<0).all():\n",
      "     6                                                   return 0\n",
      "     7                                               \n",
      "     8                                               cumsum_arr = np.cumsum(arr)\n",
      "     9                                               # print(f'Cumulative Sum: {cumsum_arr}\\n')\n",
      "    10                                               maxsum = cumsum_arr.max()\n",
      "    11                                               # print(f'Max value 0:    {maxsum}\\n')\n",
      "    12                                               for idx in np.arange(len(arr)-1):\n",
      "    13                                                   cumsum_arr -= arr[idx]\n",
      "    14                                                   # print(f'Cumulative Sum: {cumsum_arr} --> {idx+1}\\n')\n",
      "    15                                                   maxsum_subarray = cumsum_arr[idx+1:].max()\n",
      "    16                                                   # print(f'Max value temp: {maxsum_subarray}\\n')\n",
      "    17                                                   \n",
      "    18                                                   if maxsum_subarray > maxsum:\n",
      "    19                                                       maxsum = maxsum_subarray\n",
      "    20                                                       # print(f'Max value {idx+1}: {maxsum}\\n')\n",
      "    21                                               \n",
      "    22                                           \n",
      "    23                                               return maxsum\n",
      "\n"
     ]
    }
   ],
   "source": [
    "from line_profiler import LineProfiler\n",
    "\n",
    "profiler = LineProfiler()\n",
    "profiler.add_function(max_sequence)\n",
    "profiler.enable()\n",
    "print(max_sequence_ai([-2, 1, -3, 4, -1, 2, 1, -5, 4]))    # 0\n",
    "profiler.disable()\n",
    "profiler.print_stats()"
   ]
  },
  {
   "cell_type": "code",
   "execution_count": null,
   "metadata": {},
   "outputs": [],
   "source": []
  }
 ],
 "metadata": {
  "kernelspec": {
   "display_name": "Python 3",
   "language": "python",
   "name": "python3"
  },
  "language_info": {
   "codemirror_mode": {
    "name": "ipython",
    "version": 3
   },
   "file_extension": ".py",
   "mimetype": "text/x-python",
   "name": "python",
   "nbconvert_exporter": "python",
   "pygments_lexer": "ipython3",
   "version": "3.9.6"
  }
 },
 "nbformat": 4,
 "nbformat_minor": 2
}
