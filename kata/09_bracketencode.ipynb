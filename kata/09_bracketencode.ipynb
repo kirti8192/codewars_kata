{
 "cells": [
  {
   "cell_type": "code",
   "execution_count": 2,
   "metadata": {},
   "outputs": [],
   "source": [
    "# The goal of this exercise is to convert a string to a new string where each character in the new string is \"(\" if that character appears only once in the original string, or \")\" \n",
    "# if that character appears more than once in the original string. Ignore capitalization when determining if a character is a duplicate.\n",
    "\n",
    "# Examples\n",
    "\n",
    "# \"din\"      =>  \"(((\"\n",
    "# \"recede\"   =>  \"()()()\"\n",
    "# \"Success\"  =>  \")())())\"\n",
    "# \"(( @\"     =>  \"))((\" \n",
    "# Notes\n",
    "\n",
    "# Assertion messages may be unclear about what they display in some languages. If you read \"...It Should encode XXX\", the \"XXX\" is the expected result, not the input!"
   ]
  },
  {
   "cell_type": "code",
   "execution_count": 26,
   "metadata": {},
   "outputs": [],
   "source": [
    "def duplicate_encode(word):\n",
    "    char_list = list(set(word.lower()))\n",
    "    char_count = {key: 0 for key in char_list}\n",
    "    for char in word.lower():\n",
    "        char_count[char] += 1\n",
    "    encoded = ['(' if (char_count[char]==1) else ')' for char in word.lower()]\n",
    "    return ''.join(encoded)"
   ]
  },
  {
   "cell_type": "code",
   "execution_count": 27,
   "metadata": {},
   "outputs": [
    {
     "name": "stdout",
     "output_type": "stream",
     "text": [
      ")())())\n"
     ]
    }
   ],
   "source": [
    "print(duplicate_encode(\"Success\"))     # \")())())\""
   ]
  },
  {
   "cell_type": "code",
   "execution_count": null,
   "metadata": {},
   "outputs": [],
   "source": []
  }
 ],
 "metadata": {
  "kernelspec": {
   "display_name": "Python 3",
   "language": "python",
   "name": "python3"
  },
  "language_info": {
   "codemirror_mode": {
    "name": "ipython",
    "version": 3
   },
   "file_extension": ".py",
   "mimetype": "text/x-python",
   "name": "python",
   "nbconvert_exporter": "python",
   "pygments_lexer": "ipython3",
   "version": "3.9.6"
  }
 },
 "nbformat": 4,
 "nbformat_minor": 2
}
