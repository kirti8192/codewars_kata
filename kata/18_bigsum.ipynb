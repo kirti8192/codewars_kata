{
 "cells": [
  {
   "cell_type": "code",
   "execution_count": 1,
   "metadata": {},
   "outputs": [],
   "source": [
    "# Given the string representations of two integers, return the string representation of the sum of those integers.\n",
    "\n",
    "# For example:\n",
    "\n",
    "# sumStrings('1','2') // => '3'\n",
    "# A string representation of an integer will contain no characters besides the ten numerals \"0\" to \"9\".\n",
    "\n",
    "# I have removed the use of BigInteger and BigDecimal in java\n",
    "\n",
    "# Python: your solution need to work with huge numbers (about a milion digits), converting to int will not work."
   ]
  },
  {
   "cell_type": "code",
   "execution_count": 49,
   "metadata": {},
   "outputs": [
    {
     "ename": "SyntaxError",
     "evalue": "invalid syntax (1150351446.py, line 7)",
     "output_type": "error",
     "traceback": [
      "\u001b[0;36m  Cell \u001b[0;32mIn[49], line 7\u001b[0;36m\u001b[0m\n\u001b[0;31m    x = x.lstrip('0') if int(x) != 0\u001b[0m\n\u001b[0m                                    ^\u001b[0m\n\u001b[0;31mSyntaxError\u001b[0m\u001b[0;31m:\u001b[0m invalid syntax\n"
     ]
    }
   ],
   "source": [
    "def add_digit(x,y,z):\n",
    "    return int(x) + int(y) + int(z)\n",
    "def sum_strings(x, y):\n",
    "    print(f\"{x}+{y}\")\n",
    "    if (not x) and (not y):\n",
    "        return '0'\n",
    "    if int(x) != 0\n",
    "        x = x.lstrip('0') \n",
    "    if int(y) != 0\n",
    "        y = y.lstrip('0') \n",
    "    max_len = max(len(x), len(y))\n",
    "    x = f\"{x:0>{max_len}}\"\n",
    "    y = f\"{y:0>{max_len}}\"\n",
    "    addend1 = x[::-1]\n",
    "    addend2 = y[::-1]\n",
    "    sum_str = []\n",
    "    carry = 0\n",
    "\n",
    "    for ii in range(max_len):\n",
    "        sum = add_digit(addend1[ii], addend2[ii], carry)\n",
    "        sum_str.append(str(sum%10))\n",
    "        carry = sum//10\n",
    "\n",
    "    if carry > 0:\n",
    "        sum_str.append(str(carry))\n",
    "\n",
    "    return ''.join(sum_str)[::-1]"
   ]
  },
  {
   "cell_type": "code",
   "execution_count": 48,
   "metadata": {},
   "outputs": [
    {
     "name": "stdout",
     "output_type": "stream",
     "text": [
      "1998\n",
      "100998\n"
     ]
    }
   ],
   "source": [
    "print(sum_strings(\"999\", \"999\"))    # \"579\"\n",
    "print(sum_strings(\"00999\", \"99999\"))    "
   ]
  },
  {
   "cell_type": "code",
   "execution_count": 4,
   "metadata": {},
   "outputs": [],
   "source": [
    "a = []"
   ]
  },
  {
   "cell_type": "code",
   "execution_count": 5,
   "metadata": {},
   "outputs": [
    {
     "data": {
      "text/plain": [
       "[]"
      ]
     },
     "execution_count": 5,
     "metadata": {},
     "output_type": "execute_result"
    }
   ],
   "source": [
    "a[::-1]"
   ]
  },
  {
   "cell_type": "code",
   "execution_count": 11,
   "metadata": {},
   "outputs": [],
   "source": [
    "a = 0"
   ]
  },
  {
   "cell_type": "code",
   "execution_count": 12,
   "metadata": {},
   "outputs": [
    {
     "data": {
      "text/plain": [
       "'0'"
      ]
     },
     "execution_count": 12,
     "metadata": {},
     "output_type": "execute_result"
    }
   ],
   "source": [
    "str(a)"
   ]
  },
  {
   "cell_type": "code",
   "execution_count": 10,
   "metadata": {},
   "outputs": [
    {
     "data": {
      "text/plain": [
       "9"
      ]
     },
     "execution_count": 10,
     "metadata": {},
     "output_type": "execute_result"
    }
   ],
   "source": [
    "a = 9\n",
    "int(a)"
   ]
  },
  {
   "cell_type": "code",
   "execution_count": 31,
   "metadata": {},
   "outputs": [],
   "source": [
    "a = '1234'\n",
    "b = '24'"
   ]
  },
  {
   "cell_type": "code",
   "execution_count": 38,
   "metadata": {},
   "outputs": [
    {
     "name": "stdout",
     "output_type": "stream",
     "text": [
      "0023\n"
     ]
    }
   ],
   "source": [
    "b = '23'\n",
    "b = f\"{b:0>4}\"\n",
    "print(b)"
   ]
  },
  {
   "cell_type": "code",
   "execution_count": 44,
   "metadata": {},
   "outputs": [],
   "source": [
    "a = ''"
   ]
  },
  {
   "cell_type": "code",
   "execution_count": 45,
   "metadata": {},
   "outputs": [
    {
     "data": {
      "text/plain": [
       "True"
      ]
     },
     "execution_count": 45,
     "metadata": {},
     "output_type": "execute_result"
    }
   ],
   "source": [
    "not a"
   ]
  },
  {
   "cell_type": "code",
   "execution_count": null,
   "metadata": {},
   "outputs": [],
   "source": []
  }
 ],
 "metadata": {
  "kernelspec": {
   "display_name": "Python 3",
   "language": "python",
   "name": "python3"
  },
  "language_info": {
   "codemirror_mode": {
    "name": "ipython",
    "version": 3
   },
   "file_extension": ".py",
   "mimetype": "text/x-python",
   "name": "python",
   "nbconvert_exporter": "python",
   "pygments_lexer": "ipython3",
   "version": "3.9.6"
  }
 },
 "nbformat": 4,
 "nbformat_minor": 2
}
