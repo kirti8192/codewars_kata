{
 "cells": [
  {
   "cell_type": "code",
   "execution_count": 1,
   "metadata": {},
   "outputs": [],
   "source": [
    "# Given two arrays a and b write a function comp(a, b) (orcompSame(a, b)) that checks whether the two arrays have the \"same\" elements, with the same multiplicities (the multiplicity of a member is the number of times it appears). \"Same\" means, here, that the elements in b are the elements in a squared, regardless of the order.\n",
    "\n",
    "# Examples\n",
    "\n",
    "# Valid arrays\n",
    "\n",
    "# a = [121, 144, 19, 161, 19, 144, 19, 11]  \n",
    "# b = [121, 14641, 20736, 361, 25921, 361, 20736, 361]\n",
    "# comp(a, b) returns true because in b 121 is the square of 11, 14641 is the square of 121, 20736 the square of 144, 361 the square of 19, 25921 the square of 161, and so on. It gets obvious if we write b's elements in terms of squares:\n",
    "\n",
    "# a = [121, 144, 19, 161, 19, 144, 19, 11] \n",
    "# b = [11*11, 121*121, 144*144, 19*19, 161*161, 19*19, 144*144, 19*19]\n",
    "# Invalid arrays\n",
    "\n",
    "# If, for example, we change the first number to something else, comp is not returning true anymore:\n",
    "\n",
    "# a = [121, 144, 19, 161, 19, 144, 19, 11]  \n",
    "# b = [132, 14641, 20736, 361, 25921, 361, 20736, 361]\n",
    "# comp(a,b) returns false because in b 132 is not the square of any number of a.\n",
    "\n",
    "# a = [121, 144, 19, 161, 19, 144, 19, 11]  \n",
    "# b = [121, 14641, 20736, 36100, 25921, 361, 20736, 361]\n",
    "# comp(a,b) returns false because in b 36100 is not the square of any number of a.\n",
    "\n",
    "# Remarks\n",
    "\n",
    "# a or b might be [] or {} (all languages except R, Shell).\n",
    "# a or b might be nil or null or None or nothing (except in C++, COBOL, Crystal, D, Dart, Elixir, Fortran, F#, Haskell, Nim, OCaml, Pascal, Perl, PowerShell, Prolog, PureScript, R, Racket, Rust, Shell, Swift).\n",
    "# If a or b are nil (or null or None, depending on the language), the problem doesn't make sense so return false."
   ]
  },
  {
   "cell_type": "code",
   "execution_count": 87,
   "metadata": {},
   "outputs": [],
   "source": [
    "import numpy as np\n",
    "\n",
    "def comp(array1, array2):\n",
    "\tif isinstance(array1, list) & isinstance(array2, list):\n",
    "\t\tif (array1 == array2) & (len(array1)==0):\n",
    "\t\t\treturn True\n",
    "\tif not array1 or not array2:\n",
    "\t\treturn False\n",
    "\t\n",
    "\t# both arrays are valid now\n",
    "\tif sorted(array1) == sorted(array2):\n",
    "\t\treturn False\n",
    "\n",
    "    # process array 2 first\n",
    "\tif not isinstance(array2, list):\n",
    "\t\tarray2 = [array2]\n",
    "\tarray2 = np.sqrt(np.array(array2))\n",
    "\tif any(array2%1):\n",
    "\t\treturn False\n",
    "\tarray2.sort()\n",
    "\tarray2 = array2.astype(int)\n",
    "\t\n",
    "    # process array 1\n",
    "\tif not isinstance(array1, list):\n",
    "\t\tarray1 = [array1]\n",
    "\tarray1 = np.array(array1)\n",
    "\tarray1 = np.abs(array1)\n",
    "\tarray1.sort()\n",
    "\n",
    "\treturn np.all(array1 == array2)"
   ]
  },
  {
   "cell_type": "code",
   "execution_count": null,
   "metadata": {},
   "outputs": [],
   "source": []
  },
  {
   "cell_type": "code",
   "execution_count": 88,
   "metadata": {},
   "outputs": [
    {
     "name": "stdout",
     "output_type": "stream",
     "text": [
      "[42, 42]\n",
      "[42, 42]\n",
      "True\n"
     ]
    },
    {
     "data": {
      "text/plain": [
       "True"
      ]
     },
     "execution_count": 88,
     "metadata": {},
     "output_type": "execute_result"
    }
   ],
   "source": [
    "# a1 = [-121, -144, 19, -161, 19, -144, 19, -11]\n",
    "# a2 = [121, 14641, 20736, 361, 25921, 361, 20736, 361]\n",
    "a1 = [42, 42]\n",
    "a2 = [42, 42]\n",
    "print(comp(a1, a2))     # True\n",
    "sorted(a1) == sorted(a2)\n",
    "\n",
    "# print(comp(11,11**2))"
   ]
  },
  {
   "cell_type": "code",
   "execution_count": 24,
   "metadata": {},
   "outputs": [
    {
     "data": {
      "text/plain": [
       "{11, 19, 121, 144, 161}"
      ]
     },
     "execution_count": 24,
     "metadata": {},
     "output_type": "execute_result"
    }
   ],
   "source": [
    "a1 = [121, 144, 19, 161, 19, 144, 19, 11]\n",
    "a2 = [11*11, 121*121, 144*144, 19*19, 161*161, 19*19, 144*144, 19*19]\n",
    "set(a1)"
   ]
  },
  {
   "cell_type": "code",
   "execution_count": 25,
   "metadata": {},
   "outputs": [],
   "source": [
    "a2 = np.array(a2)"
   ]
  },
  {
   "cell_type": "code",
   "execution_count": 26,
   "metadata": {},
   "outputs": [],
   "source": [
    "a3 = np.sqrt(a2)"
   ]
  },
  {
   "cell_type": "code",
   "execution_count": 27,
   "metadata": {},
   "outputs": [
    {
     "data": {
      "text/plain": [
       "False"
      ]
     },
     "execution_count": 27,
     "metadata": {},
     "output_type": "execute_result"
    }
   ],
   "source": [
    "any(a3%1)"
   ]
  },
  {
   "cell_type": "code",
   "execution_count": 72,
   "metadata": {},
   "outputs": [
    {
     "data": {
      "text/plain": [
       "True"
      ]
     },
     "execution_count": 72,
     "metadata": {},
     "output_type": "execute_result"
    }
   ],
   "source": [
    "all([1,2,3])"
   ]
  },
  {
   "cell_type": "code",
   "execution_count": null,
   "metadata": {},
   "outputs": [],
   "source": []
  }
 ],
 "metadata": {
  "kernelspec": {
   "display_name": "Python 3",
   "language": "python",
   "name": "python3"
  },
  "language_info": {
   "codemirror_mode": {
    "name": "ipython",
    "version": 3
   },
   "file_extension": ".py",
   "mimetype": "text/x-python",
   "name": "python",
   "nbconvert_exporter": "python",
   "pygments_lexer": "ipython3",
   "version": "3.9.6"
  }
 },
 "nbformat": 4,
 "nbformat_minor": 2
}
