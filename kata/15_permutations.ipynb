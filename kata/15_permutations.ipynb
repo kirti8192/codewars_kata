{
 "cells": [
  {
   "cell_type": "code",
   "execution_count": 1,
   "metadata": {},
   "outputs": [],
   "source": [
    "# In this kata, your task is to create all permutations of \n",
    "# a non-empty input string and remove duplicates, if present.\n",
    "\n",
    "# Create as many \"shufflings\" as you can!\n",
    "\n",
    "# Examples:\n",
    "\n",
    "# With input 'a':\n",
    "# Your function should return: ['a']\n",
    "\n",
    "# With input 'ab':\n",
    "# Your function should return ['ab', 'ba']\n",
    "\n",
    "# With input 'abc':\n",
    "# Your function should return ['abc','acb','bac','bca','cab','cba']\n",
    "\n",
    "# With input 'aabb':\n",
    "# Your function should return ['aabb', 'abab', 'abba', 'baab', 'baba', 'bbaa']\n",
    "# Note: The order of the permutations doesn't matter.\n",
    "\n",
    "# Good luck!"
   ]
  },
  {
   "cell_type": "code",
   "execution_count": 13,
   "metadata": {},
   "outputs": [],
   "source": [
    "import itertools\n",
    "\n",
    "def permutations(s):\n",
    "    permutations = list(itertools.permutations(s, len(s)))\n",
    "    permutations_list = [''.join(list(item)) for item in permutations]\n",
    "    permutations_unique = list(set(permutations_list))\n",
    "    return permutations_unique"
   ]
  },
  {
   "cell_type": "code",
   "execution_count": 14,
   "metadata": {},
   "outputs": [
    {
     "name": "stdout",
     "output_type": "stream",
     "text": [
      "['aabb', 'baba', 'abba', 'bbaa', 'baab', 'abab']\n"
     ]
    }
   ],
   "source": [
    "print(permutations('aabb'))         # ['aabb', 'abab', 'abba', 'baab', 'baba', 'bbaa']"
   ]
  },
  {
   "cell_type": "code",
   "execution_count": 7,
   "metadata": {},
   "outputs": [],
   "source": [
    "p = [('a', 'a', 'b', 'b'), ('a', 'a', 'b', 'b'), ('a', 'b', 'a', 'b'), ('a', 'b', 'b', 'a'), ('a', 'b', 'a', 'b'), ('a', 'b', 'b', 'a'), ('a', 'a', 'b', 'b'), ('a', 'a', 'b', 'b'), ('a', 'b', 'a', 'b'), ('a', 'b', 'b', 'a'), ('a', 'b', 'a', 'b'), ('a', 'b', 'b', 'a'), ('b', 'a', 'a', 'b'), ('b', 'a', 'b', 'a'), ('b', 'a', 'a', 'b'), ('b', 'a', 'b', 'a'), ('b', 'b', 'a', 'a'), ('b', 'b', 'a', 'a'), ('b', 'a', 'a', 'b'), ('b', 'a', 'b', 'a'), ('b', 'a', 'a', 'b'), ('b', 'a', 'b', 'a'), ('b', 'b', 'a', 'a'), ('b', 'b', 'a', 'a')]"
   ]
  },
  {
   "cell_type": "code",
   "execution_count": 10,
   "metadata": {},
   "outputs": [
    {
     "data": {
      "text/plain": [
       "'aabb'"
      ]
     },
     "execution_count": 10,
     "metadata": {},
     "output_type": "execute_result"
    }
   ],
   "source": [
    "''.join(list(p[0]))"
   ]
  },
  {
   "cell_type": "code",
   "execution_count": null,
   "metadata": {},
   "outputs": [],
   "source": []
  }
 ],
 "metadata": {
  "kernelspec": {
   "display_name": "Python 3",
   "language": "python",
   "name": "python3"
  },
  "language_info": {
   "codemirror_mode": {
    "name": "ipython",
    "version": 3
   },
   "file_extension": ".py",
   "mimetype": "text/x-python",
   "name": "python",
   "nbconvert_exporter": "python",
   "pygments_lexer": "ipython3",
   "version": "3.9.6"
  }
 },
 "nbformat": 4,
 "nbformat_minor": 2
}
