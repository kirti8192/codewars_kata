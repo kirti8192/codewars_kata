{
 "cells": [
  {
   "cell_type": "code",
   "execution_count": 1,
   "metadata": {},
   "outputs": [],
   "source": [
    "# Snail Sort\n",
    "\n",
    "# Given an n x n array, return the array elements arranged from outermost \n",
    "# elements to the middle element, traveling clockwise.\n",
    "\n",
    "# array = [[1,2,3],\n",
    "#          [4,5,6],\n",
    "#          [7,8,9]]\n",
    "# snail(array) #=> [1,2,3,6,9,8,7,4,5]\n",
    "# For better understanding, please follow the numbers of the next array consecutively:\n",
    "\n",
    "# array = [[1,2,3],\n",
    "#          [8,9,4],\n",
    "#          [7,6,5]]\n",
    "# snail(array) #=> [1,2,3,4,5,6,7,8,9]\n",
    "# This image will illustrate things more clearly:\n",
    "\n",
    "\n",
    "# NOTE: The idea is not sort the elements from the lowest value to the highest; \n",
    "# the idea is to traverse the 2-d array in a clockwise snailshell pattern.\n",
    "\n",
    "# NOTE 2: The 0x0 (empty matrix) is represented as en empty array inside an array [[]].\n"
   ]
  },
  {
   "cell_type": "code",
   "execution_count": 76,
   "metadata": {},
   "outputs": [],
   "source": [
    "import numpy as np\n",
    "\n",
    "def next_step(row_idx, col_idx, direction):\n",
    "\t\n",
    "\tif direction == 'r':\n",
    "\t\tcol_idx += 1\n",
    "\telif direction == 'd':\n",
    "\t\trow_idx += 1\n",
    "\telif direction == 'l':\n",
    "\t\tcol_idx -= 1\n",
    "\telif direction == 'u':\n",
    "\t\trow_idx -= 1\n",
    "\n",
    "\treturn (row_idx, col_idx)\n",
    "\n",
    "def reverse_step(row_idx, col_idx, direction):\n",
    "\tif direction == 'r':\n",
    "\t\trow_idx += 1\n",
    "\telif direction == 'd':\n",
    "\t\tcol_idx -= 1\n",
    "\telif direction == 'l':\n",
    "\t\trow_idx -= 1\n",
    "\telif direction == 'u':\n",
    "\t\tcol_idx += 1\n",
    "\n",
    "\treturn (row_idx, col_idx)\n",
    "\n",
    "def snail(snail_map):\n",
    "\tsnail_map = np.array(snail_map)\n",
    "\ttraversed = np.full_like(snail_map, False, dtype=bool)   # marks if element traversed\n",
    "\tdirection_list = ['r', 'd', 'l', 'u']\n",
    "\tdirection_idx = 0\n",
    "\tdirection = direction_list[direction_idx]\n",
    "\trow_idx, col_idx = 0,0\n",
    "\tmax_row, max_col = np.shape(snail_map)\n",
    "\tsort_list = []\n",
    "\twhile not np.all(traversed):\t# go until all elements are traversed\n",
    "\t\tif ((row_idx < max_row) and (col_idx < max_col)) and (not(traversed[row_idx, col_idx])):\t # keep going in same direction, append to list\n",
    "\t\t\tsort_list.append(snail_map[row_idx, col_idx])\n",
    "\t\t\ttraversed[row_idx, col_idx] = True\n",
    "\t\telse:   # a violation has occurred, needs direction change\n",
    "\t\t\tdirection_idx = (direction_idx+1)%(len(direction_list))\n",
    "\t\t\tdirection = direction_list[direction_idx]\n",
    "\t\t\trow_idx, col_idx = reverse_step(row_idx, col_idx, direction) \t# reverse the step taken in wrong direction out of bounds\n",
    "\t\trow_idx, col_idx = next_step(row_idx, col_idx, direction)   # next step in same direction\n",
    "\treturn sort_list"
   ]
  },
  {
   "cell_type": "code",
   "execution_count": 77,
   "metadata": {},
   "outputs": [
    {
     "name": "stdout",
     "output_type": "stream",
     "text": [
      "[1, 2, 3, 4, 5, 6, 7, 8, 9]\n"
     ]
    }
   ],
   "source": [
    "array = [[1,2,3],\n",
    "         [8,9,4],\n",
    "         [7,6,5]]\n",
    "expected = [1,2,3,4,5,6,7,8,9]\n",
    "print(snail(array))    # expected"
   ]
  },
  {
   "cell_type": "code",
   "execution_count": null,
   "metadata": {},
   "outputs": [],
   "source": []
  }
 ],
 "metadata": {
  "kernelspec": {
   "display_name": "Python 3",
   "language": "python",
   "name": "python3"
  },
  "language_info": {
   "codemirror_mode": {
    "name": "ipython",
    "version": 3
   },
   "file_extension": ".py",
   "mimetype": "text/x-python",
   "name": "python",
   "nbconvert_exporter": "python",
   "pygments_lexer": "ipython3",
   "version": "3.9.6"
  }
 },
 "nbformat": 4,
 "nbformat_minor": 2
}
