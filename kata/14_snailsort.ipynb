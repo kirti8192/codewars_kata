{
 "cells": [
  {
   "cell_type": "code",
   "execution_count": 1,
   "metadata": {},
   "outputs": [],
   "source": [
    "# Snail Sort\n",
    "\n",
    "# Given an n x n array, return the array elements arranged from outermost \n",
    "# elements to the middle element, traveling clockwise.\n",
    "\n",
    "# array = [[1,2,3],\n",
    "#          [4,5,6],\n",
    "#          [7,8,9]]\n",
    "# snail(array) #=> [1,2,3,6,9,8,7,4,5]\n",
    "# For better understanding, please follow the numbers of the next array consecutively:\n",
    "\n",
    "# array = [[1,2,3],\n",
    "#          [8,9,4],\n",
    "#          [7,6,5]]\n",
    "# snail(array) #=> [1,2,3,4,5,6,7,8,9]\n",
    "# This image will illustrate things more clearly:\n",
    "\n",
    "\n",
    "# NOTE: The idea is not sort the elements from the lowest value to the highest; \n",
    "# the idea is to traverse the 2-d array in a clockwise snailshell pattern.\n",
    "\n",
    "# NOTE 2: The 0x0 (empty matrix) is represented as en empty array inside an array [[]].\n"
   ]
  },
  {
   "cell_type": "code",
   "execution_count": 74,
   "metadata": {},
   "outputs": [],
   "source": [
    "import numpy as np\n",
    "\n",
    "def next_step(row_idx, col_idx, direction):\n",
    "    \n",
    "    if direction == 'r':\n",
    "        col_idx += 1\n",
    "    elif direction == 'd':\n",
    "        row_idx += 1\n",
    "    elif direction == 'l':\n",
    "        col_idx -= 1\n",
    "    elif direction == 'u':\n",
    "        row_idx -= 1\n",
    "\n",
    "    return (row_idx, col_idx)\n",
    "\n",
    "def snail(snail_map):\n",
    "    snail_map = np.array(snail_map)\n",
    "    traversed = np.full_like(snail_map, False, dtype=bool)   # marks if element traversed\n",
    "    direction_list = ['r', 'd', 'l', 'u']\n",
    "    direction_idx = 0\n",
    "    direction = direction_list[direction_idx]\n",
    "    row_idx, col_idx = 0,0\n",
    "    max_row, max_col = np.shape(snail_map)\n",
    "    print(f'MAX: {max_row},{max_col}')\n",
    "    sort_list = []\n",
    "    while not np.all(traversed):    # go until all elements are traversed\n",
    "        print(f'{row_idx},{col_idx}')\n",
    "        breakpoint()\n",
    "        if ((row_idx < max_row) and (col_idx < max_col)) and (not(traversed[row_idx, col_idx])):     # keep going in same direction, append to list\n",
    "            sort_list.append(snail_map[row_idx, col_idx])\n",
    "            traversed[row_idx, col_idx] = True\n",
    "            row_idx, col_idx = next_step(row_idx, col_idx, direction)   # next step in same direction\n",
    "        else:   # a violation has occurred, needs direction change\n",
    "            direction_idx = (direction_idx+1)%(len(direction_list))\n",
    "            direction = direction_list[direction_idx]\n",
    "        print(traversed)\n",
    "        print(sort_list)\n",
    "        \n",
    "\n",
    "\n",
    "            \n",
    "\n",
    "    return sort_list"
   ]
  },
  {
   "cell_type": "code",
   "execution_count": null,
   "metadata": {},
   "outputs": [],
   "source": [
    "array = [[1,2,3],\n",
    "         [8,9,4],\n",
    "         [7,6,5]]\n",
    "expected = [1,2,3,4,5,6,7,8,9]\n",
    "print(snail(array))    # expected"
   ]
  }
 ],
 "metadata": {
  "kernelspec": {
   "display_name": "Python 3",
   "language": "python",
   "name": "python3"
  },
  "language_info": {
   "codemirror_mode": {
    "name": "ipython",
    "version": 3
   },
   "file_extension": ".py",
   "mimetype": "text/x-python",
   "name": "python",
   "nbconvert_exporter": "python",
   "pygments_lexer": "ipython3",
   "version": "3.9.6"
  }
 },
 "nbformat": 4,
 "nbformat_minor": 2
}
