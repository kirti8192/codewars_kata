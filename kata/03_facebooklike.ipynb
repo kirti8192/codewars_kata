{
 "cells": [
  {
   "cell_type": "code",
   "execution_count": 1,
   "metadata": {},
   "outputs": [],
   "source": [
    "# You probably know the \"like\" system from Facebook and other pages. People can \"like\" blog posts, pictures or other items. We want to create the text that should be displayed next to such an item.\n",
    "\n",
    "# Implement the function which takes an array containing the names of people that like an item. It must return the display text as shown in the examples:\n",
    "\n",
    "# []                                -->  \"no one likes this\"\n",
    "# [\"Peter\"]                         -->  \"Peter likes this\"\n",
    "# [\"Jacob\", \"Alex\"]                 -->  \"Jacob and Alex like this\"\n",
    "# [\"Max\", \"John\", \"Mark\"]           -->  \"Max, John and Mark like this\"\n",
    "# [\"Alex\", \"Jacob\", \"Mark\", \"Max\"]  -->  \"Alex, Jacob and 2 others like this\"\n",
    "# Note: For 4 or more names, the number in \"and 2 others\" simply increases."
   ]
  },
  {
   "cell_type": "code",
   "execution_count": 54,
   "metadata": {},
   "outputs": [],
   "source": [
    "def likes(names):\n",
    "\n",
    "    # name list\n",
    "    if len(names) == 0:\n",
    "        names.append(\"no one\")\n",
    "    \n",
    "    if len(names) >= 4:\n",
    "        names.insert(2, f'{len(names)-2} others')\n",
    "        del names[3:]\n",
    "\n",
    "    if len(names) < 2: \n",
    "        like_str = ' '.join(names + [\"likes this\"])\n",
    "    elif len(names) == 2:\n",
    "        like_str = ' and '.join(names)\n",
    "        like_str = ' '.join([like_str] + [\"like this\"])\n",
    "    else: \n",
    "        like_str = ', '.join(names[:2])\n",
    "        like_str = ' and '.join([like_str] + names[2:])\n",
    "        like_str = ' '.join([like_str] + [\"like this\"])\n",
    "\n",
    "    return like_str"
   ]
  },
  {
   "cell_type": "code",
   "execution_count": 55,
   "metadata": {},
   "outputs": [
    {
     "name": "stdout",
     "output_type": "stream",
     "text": [
      "Peter likes this\n"
     ]
    }
   ],
   "source": [
    "print(likes(['Peter']))    #  'Peter likes this'"
   ]
  },
  {
   "cell_type": "code",
   "execution_count": 57,
   "metadata": {},
   "outputs": [
    {
     "name": "stdout",
     "output_type": "stream",
     "text": [
      "no one likes this\n",
      "Peter likes this\n",
      "Peter and Peter like this\n",
      "Peter, Peter and Peter like this\n",
      "Peter, Peter and 8 others like this\n"
     ]
    }
   ],
   "source": [
    "print(likes([]))\n",
    "print(likes(['Peter']))\n",
    "print(likes(['Peter', 'Peter']))\n",
    "print(likes(['Peter', 'Peter', 'Peter']))\n",
    "print(likes(['Peter', 'Peter', 'Peter', 'Peter', 'Peter', 'Peter', 'Peter', 'Peter', 'Peter', 'Peter']))\n"
   ]
  },
  {
   "cell_type": "code",
   "execution_count": 38,
   "metadata": {},
   "outputs": [
    {
     "data": {
      "text/plain": [
       "['a', 'bytearray']"
      ]
     },
     "execution_count": 38,
     "metadata": {},
     "output_type": "execute_result"
    }
   ],
   "source": []
  },
  {
   "cell_type": "code",
   "execution_count": null,
   "metadata": {},
   "outputs": [],
   "source": []
  }
 ],
 "metadata": {
  "kernelspec": {
   "display_name": "Python 3",
   "language": "python",
   "name": "python3"
  },
  "language_info": {
   "codemirror_mode": {
    "name": "ipython",
    "version": 3
   },
   "file_extension": ".py",
   "mimetype": "text/x-python",
   "name": "python",
   "nbconvert_exporter": "python",
   "pygments_lexer": "ipython3",
   "version": "3.9.6"
  }
 },
 "nbformat": 4,
 "nbformat_minor": 2
}
